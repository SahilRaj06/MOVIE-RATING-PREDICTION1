import pandas as pd
import numpy as np
from sklearn.model_selection import train_test_split
from sklearn.preprocessing import LabelEncoder
from sklearn.ensemble import RandomForestRegressor
from sklearn.metrics import mean_squared_error, r2_score

# Load dataset
def load_data(file_path):
    return pd.read_csv(file_path, encoding="ISO-8859-1")

# Data Cleaning and Preprocessing
def preprocess_data(df):
    # Convert 'Duration' to numeric
    df['Duration'] = df['Duration'].str.extract(r'(\d+)').astype(float)
    
    # Convert 'Votes' to numeric
    df['Votes'] = df['Votes'].replace('[^\d.]', '', regex=True).astype(str)
    df['Votes'] = df['Votes'].replace('', np.nan).astype(float)
    
    # Fill missing numerical values with median
    num_cols = ['Duration', 'Votes']
    for col in num_cols:
        df[col].fillna(df[col].median(), inplace=True)
    
    # Fill missing categorical values with 'Unknown'
    cat_cols = ['Genre', 'Director', 'Actor 1', 'Actor 2', 'Actor 3']
    for col in cat_cols:
        df[col].fillna('Unknown', inplace=True)
    
    # Encoding categorical features
    label_encoders = {}
    for col in cat_cols:
        le = LabelEncoder()
        df[col] = le.fit_transform(df[col])
        label_encoders[col] = le
    
    return df, label_encoders

# Train Model
def train_model(X_train, y_train):
    model = RandomForestRegressor(n_estimators=100, random_state=42)
    model.fit(X_train, y_train)
    return model

# Evaluate Model
def evaluate_model(model, X_test, y_test):
    y_pred = model.predict(X_test)
    mse = mean_squared_error(y_test, y_pred)
    r2 = r2_score(y_test, y_pred)
    return mse, r2

if __name__ == "__main__":
    file_path = "IMDb Movies India.csv"
    df = load_data(file_path)
    df, label_encoders = preprocess_data(df)
    
    # Define features and target
    X = df[['Duration', 'Votes', 'Genre', 'Director', 'Actor 1', 'Actor 2', 'Actor 3']]
    y = df['Rating'].fillna(df['Rating'].median())  # Fill missing ratings with median
    
    # Train-test split
    X_train, X_test, y_train, y_test = train_test_split(X, y, test_size=0.2, random_state=42)
    
    # Train and Evaluate Model
    model = train_model(X_train, y_train)
    mse, r2 = evaluate_model(model, X_test, y_test)
    
    print(f'Mean Squared Error: {mse}')
    print(f'R-squared Score: {r2}')
